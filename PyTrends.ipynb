{
  "nbformat": 4,
  "nbformat_minor": 0,
  "metadata": {
    "colab": {
      "name": "PyTrends.ipynb",
      "provenance": [],
      "collapsed_sections": [],
      "toc_visible": true,
      "include_colab_link": true
    },
    "kernelspec": {
      "name": "python3",
      "display_name": "Python 3"
    }
  },
  "cells": [
    {
      "cell_type": "markdown",
      "metadata": {
        "id": "view-in-github",
        "colab_type": "text"
      },
      "source": [
        "<a href=\"https://colab.research.google.com/github/devwithdave/pytrends/blob/master/PyTrends.ipynb\" target=\"_parent\"><img src=\"https://colab.research.google.com/assets/colab-badge.svg\" alt=\"Open In Colab\"/></a>"
      ]
    },
    {
      "cell_type": "markdown",
      "metadata": {
        "id": "CWFhmABZnRnb",
        "colab_type": "text"
      },
      "source": [
        "# PyTrends\n",
        "\n",
        "Helpful links:\n",
        "\n",
        "*   [Tutorial](https://searchengineland.com/learn-how-to-chart-and-track-google-trends-in-data-studio-using-python-329119)\n",
        "*   [Github Documentation](https://github.com/GeneralMills/pytrends)\n",
        "*   [Category Codes](https://github.com/pat310/google-trends-api/wiki/Google-Trends-Categories)\n",
        "*   [Dataframe to Google Sheets](https://towardsdatascience.com/using-python-to-push-your-pandas-dataframe-to-google-sheets-de69422508f)\n"
      ]
    },
    {
      "cell_type": "code",
      "metadata": {
        "id": "nNqG6ioPmaQa",
        "colab_type": "code",
        "cellView": "form",
        "colab": {}
      },
      "source": [
        "#@title Module Installs and Imports\n",
        "!pip install --upgrade -q gspread pytrends\n",
        "import pytrends\n",
        "import time\n",
        "import datetime\n",
        "import gspread\n",
        "import pandas as pd\n",
        "import matplotlib.pyplot as plt\n",
        "import seaborn as sns\n",
        "from IPython.display import clear_output\n",
        "from datetime import datetime, date, time\n",
        "from google.colab import auth\n",
        "from pytrends.request import TrendReq\n",
        "from oauth2client.client import GoogleCredentials\n",
        "from pathlib import Path\n",
        "clear_output()"
      ],
      "execution_count": 0,
      "outputs": []
    },
    {
      "cell_type": "markdown",
      "metadata": {
        "id": "4CXOU25ccolT",
        "colab_type": "text"
      },
      "source": [
        "If you would like to import a list of key words/phrases to use for Google Trends analysis, place a csv file with 1 phrase per row into the \"data uploads\" folder in the root of your Google Drive. Run the cell below and follow the instructions to login and mount your Google Drive, and type the full file name, including extension, into the `name_of_file` field below. \n",
        "\n",
        "If you would instead like to manually input your search terms (up to 5), **DO NOT RUN** the \"Search Term Configuration\" cell, and skip to the \"Manul Search Term Entry\" cell.\n",
        "\n",
        "**ToDo**\n",
        "\n",
        "*   Add checks for folder existance and file verification. \n",
        "\n"
      ]
    },
    {
      "cell_type": "code",
      "metadata": {
        "id": "nL00_pTjlPwl",
        "colab_type": "code",
        "cellView": "form",
        "colab": {}
      },
      "source": [
        "#@title Google Drive Authenticate/Mount\n",
        "\n",
        "from google.colab import drive\n",
        "drive.mount('/content/drive')"
      ],
      "execution_count": 0,
      "outputs": []
    },
    {
      "cell_type": "code",
      "metadata": {
        "id": "-25M88GbmzBu",
        "colab_type": "code",
        "cellView": "form",
        "colab": {}
      },
      "source": [
        "#@title Search Term Configuration { form-width: \"30%\" }\n",
        "upload_path = Path('drive/My Drive/data uploads')\n",
        "name_of_file = \"search terms.csv\" #@param {type:\"string\"}\n",
        "file_path = upload_path / name_of_file\n",
        "if file_path.suffix == '.csv':\n",
        "    import csv\n",
        "    with open(file_path, newline='') as f:\n",
        "        reader = csv.reader(f)\n",
        "        results = list(reader)\n",
        "        if len(results) <= 5:\n",
        "            results = [item[0] for item in results]\n",
        "        else:\n",
        "            print('Large set detected.')\n",
        "        print('These are the search terms loaded from your file:')\n",
        "        print('='*20+'\\n')\n",
        "        print(*results, sep='\\n')\n",
        "else:\n",
        "    print('Incorrect file name or type. Please verify file name and try again.')"
      ],
      "execution_count": 0,
      "outputs": []
    },
    {
      "cell_type": "code",
      "metadata": {
        "id": "5Eb0aeP4BKV-",
        "colab_type": "code",
        "colab": {},
        "cellView": "both"
      },
      "source": [
        "#@title Manual Search Term Entry\n",
        "# Replace the example list items with your own search terms (up to 5),\n",
        "# making sure to enclose each in quotes (double or single),\n",
        "# and separate each term with a comma.\n",
        "results = [\n",
        "           'smoothies',\n",
        "           'slushies'\n",
        "]"
      ],
      "execution_count": 0,
      "outputs": []
    },
    {
      "cell_type": "markdown",
      "metadata": {
        "id": "V0j41ZpA0P-M",
        "colab_type": "text"
      },
      "source": [
        "The following Interest Over Time plot will only work with 5 or less search terms. If your search term dataset has more than 5 terms, please proceed to the \"Large Set Dataframe Creation\" cell below."
      ]
    },
    {
      "cell_type": "code",
      "metadata": {
        "id": "utrTBV88ql5C",
        "colab_type": "code",
        "cellView": "form",
        "outputId": "f56c71b3-2489-4bba-fbe0-10cc0fdfd992",
        "colab": {
          "base_uri": "https://localhost:8080/",
          "height": 428
        }
      },
      "source": [
        "#@title Interest Over Time Plot (1 Year, US)\n",
        "pytrend = TrendReq()\n",
        "# Max list size = 5 items\n",
        "pytrend.build_payload(\n",
        "    kw_list=results, \n",
        "    timeframe='today 12-m', \n",
        "    geo = 'US')\n",
        "interest_over_time_df = pytrend.interest_over_time()\n",
        "sns.set(color_codes=True)\n",
        "dx = interest_over_time_df.plot.line(\n",
        "    figsize = (9,6), \n",
        "    title = \"Interest Over Time\")\n",
        "dx.set_xlabel('Date')\n",
        "dx.set_ylabel('Trends Index')\n",
        "dx.tick_params(axis='both', which='major', labelsize=13)"
      ],
      "execution_count": 4,
      "outputs": [
        {
          "output_type": "display_data",
          "data": {
            "image/png": "[encoded data removed]",
            "text/plain": [
              "<Figure size 648x432 with 1 Axes>"
            ]
          },
          "metadata": {
            "tags": []
          }
        }
      ]
    },
    {
      "cell_type": "markdown",
      "metadata": {
        "id": "N2m2iCbX7UDh",
        "colab_type": "text"
      },
      "source": [
        "The \"Related Queries\" cell below returns a dictionary of pandas dataframes based on the search terms provided above. The dictionary structure follows this pattern:\n",
        "\n",
        "`{'1st Term':\n",
        "    {'top': DataFrame,\n",
        "    'rising': DataFrame},\n",
        "'2nd Term':\n",
        "    {'top': DataFrame,\n",
        "    'rising': DataFrame},\n",
        "etc...\n",
        "}`\n",
        "\n",
        "These dataframes can be accessed via dictionary keys, for example:\n",
        "\n",
        "`related_queries['search term']['rising']`\n",
        "\n",
        "Each DataFrame contains the search query and a value determining its search ranking."
      ]
    },
    {
      "cell_type": "code",
      "metadata": {
        "id": "y1ZN5lrNfI0n",
        "colab_type": "code",
        "cellView": "form",
        "outputId": "9da3c500-ce90-4183-acda-40db59579b4c",
        "colab": {
          "base_uri": "https://localhost:8080/",
          "height": 85
        }
      },
      "source": [
        "#@title Related Queries\n",
        "from pprint import pprint\n",
        "related_queries = pytrend.related_queries()\n",
        "print(\"Dictionary 'related_queries' created with the following keys:\\n\")\n",
        "print(*[key for key in related_queries],sep='\\n')"
      ],
      "execution_count": 0,
      "outputs": [
        {
          "output_type": "stream",
          "text": [
            "Dictionary 'related_queries' created with the following keys:\n",
            "\n",
            "slushies\n",
            "smoothies\n"
          ],
          "name": "stdout"
        }
      ]
    },
    {
      "cell_type": "code",
      "metadata": {
        "id": "AeHA7rYhByDu",
        "colab_type": "code",
        "colab": {}
      },
      "source": [
        "#@title Large Set Dataframe Creation \n",
        "time_period = \"today 3-m\" #@param [\"today 3-m\", \"today 12-m\"]\n",
        "data = {}\n",
        "\n",
        "for index, trending in enumerate(results):\n",
        "    pytrend.build_payload(trending, timeframe = time_period, geo = 'US')\n",
        "    data[index] = pytrend.interest_over_time()\n",
        "\n",
        "result = pd.concat(data, axis=1)\n",
        "result.columns = result.columns.droplevel(0)\n",
        "result = result.drop('isPartial', axis = 1)\n",
        "\n",
        "result"
      ],
      "execution_count": 0,
      "outputs": []
    },
    {
      "cell_type": "code",
      "metadata": {
        "id": "OCWDzPgmfIz2",
        "colab_type": "code",
        "cellView": "both",
        "colab": {}
      },
      "source": [
        "#@title Authenticate Google User and Create Sheet\n",
        "sheet_name = \"Test Sheet\" #@param {type:\"string\"}\n",
        "\n",
        "auth.authenticate_user()\n",
        "gc = gspread.authorize(GoogleCredentials.get_application_default())\n",
        "\n",
        "# Create a new Google Sheet with `sheet_name`\n",
        "sh = gc.create(sheet_name)\n",
        "worksheet = gc.open(sheet_name).sheet1\n",
        "\n"
      ],
      "execution_count": 0,
      "outputs": []
    },
    {
      "cell_type": "code",
      "metadata": {
        "id": "el1dEoGJUMPn",
        "colab_type": "code",
        "colab": {}
      },
      "source": [
        "def iter_pd(df):\n",
        "    for val in df.columns:\n",
        "        yield val\n",
        "    for row in df.to_numpy():\n",
        "        for val in row:\n",
        "            if pd.isna(val):\n",
        "                yield \"\"\n",
        "            else:\n",
        "                yield val\n",
        "\n",
        "def pandas_to_sheets(pandas_df, sheet, clear=True):\n",
        "    # Updates all values in a workbook to match a pandas dataframe\n",
        "    if clear:\n",
        "        sheet.clear()\n",
        "    (row, col) = pandas_df.shape\n",
        "    cells = sheet.range(f\"A1:{gspread.utils.rowcol_to_a1(row + 1, col)}\")\n",
        "    for cell, val in zip(cells, iter_pd(pandas_df)):\n",
        "        cell.value = val\n",
        "    sheet.update_cells(cells)"
      ],
      "execution_count": 0,
      "outputs": []
    },
    {
      "cell_type": "code",
      "metadata": {
        "id": "z-5kThc_Dief",
        "colab_type": "code",
        "colab": {}
      },
      "source": [
        "result.to_excel('drive/My Drive/data exports/data.xlsx')"
      ],
      "execution_count": 0,
      "outputs": []
    }
  ]
}